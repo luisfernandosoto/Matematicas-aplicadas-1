{
  "nbformat": 4,
  "nbformat_minor": 0,
  "metadata": {
    "colab": {
      "provenance": [],
      "authorship_tag": "ABX9TyNY8j+WqW5wRtyWcqRmJ7GG",
      "include_colab_link": true
    },
    "kernelspec": {
      "name": "python3",
      "display_name": "Python 3"
    },
    "language_info": {
      "name": "python"
    }
  },
  "cells": [
    {
      "cell_type": "markdown",
      "metadata": {
        "id": "view-in-github",
        "colab_type": "text"
      },
      "source": [
        "<a href=\"https://colab.research.google.com/github/luisfernandosoto/Matematicas-aplicadas-1/blob/main/Sotobedoyaluisfernando_A00406591.ipynb\" target=\"_parent\"><img src=\"https://colab.research.google.com/assets/colab-badge.svg\" alt=\"Open In Colab\"/></a>"
      ]
    },
    {
      "cell_type": "markdown",
      "source": [
        "#***AUTOBIOGRAFIA***"
      ],
      "metadata": {
        "id": "nKl_VNkE51U8"
      }
    },
    {
      "cell_type": "markdown",
      "source": [
        "Mi nombre es Luis fernando soto bedoya tengo 17 años, nací en Colombia, en la ciudad de cali, el 23 de noviembre de año 2006 y vivo actualmente en la ciudad de cali, me gradue como tecnico en contaduria y con conocimientos tecnologicos y matematicos del colegio santa isabel de hungria, mis pasatiempos son leer, programar, y tocar la guitarra, soy alguien muy reservado pero cuando tomo confianza con alguien me desenvuelvo fácilmente dentro de un entorno social, y me gusta enseñar a la gente que requiera, también soy alguien apasionado por el mundo numérico y científico, y por eso me encuentro cursando la carrera de ingenieria en telematica, tengo una familia que me apoya y se aferra siempre a las posibilidades de poder ayudarme en el recorrido social y universitario de mi vida."
      ],
      "metadata": {
        "id": "CSXdjP67s54F"
      }
    },
    {
      "cell_type": "markdown",
      "source": [
        "<img src=\"https://images.ecestaticos.com/EC9hFON70-Eds9f50nAWDsHBquk=/0x73:1684x1032/1338x751/filters:fill(white):format(jpg)/f.elconfidencial.com%2Foriginal%2Fa6d%2F3b6%2F033%2Fa6d3b60336487d84000feb48a08a5edb.jpg\">"
      ],
      "metadata": {
        "id": "zKHU9wet6baI"
      }
    },
    {
      "cell_type": "markdown",
      "source": [
        "#CANCIONES\n",
        "> **RAMSON**\n",
        ">>*lil tecca*\n",
        ">\n",
        ">**WAITING FOR LOVE**\n",
        ">>*avicci*\n",
        ">\n",
        ">**WAKE ME UP**\n",
        ">>*avicci*\n",
        ">\n",
        ">**VISIONES**\n",
        ">>*canserbero*\n",
        ">\n",
        ">**NOT LIKE US**\n",
        ">>*kendrick lamar*\n",
        "\n",
        "\n",
        "\n",
        "\n",
        "\n",
        "\n",
        "\n",
        "\n",
        "\n",
        "\n",
        "\n",
        "\n",
        "\n",
        "\n",
        "\n",
        "\n",
        "\n",
        "\n",
        "\n",
        "\n",
        "\n",
        "\n",
        "\n",
        "\n",
        "\n"
      ],
      "metadata": {
        "id": "Uoy_Z8hQ7QiA"
      }
    },
    {
      "cell_type": "markdown",
      "source": [
        " |     MATERIA    |     RAZON    |\n",
        "| --------- | -------- |\n",
        "| ALGEBRA Y FUNCIONES | ME ENCANTA LA MATEMATICA |\n",
        "| LOGICA Y ARGUMENTACION | POR QUE DESARROLLO MI PENSAMIENTO CRITICO MUCHO MAS |\n",
        "| INTRODUCCION A TELEMATICA | POR QUE REFORZO MIS HABILIDADES EN LA PROGRAMACION Y ME DIO A CONOCER CADA UNO DE SUS COMPONENTES |\n"
      ],
      "metadata": {
        "id": "hQbKuac_E4fQ"
      }
    }
  ]
}