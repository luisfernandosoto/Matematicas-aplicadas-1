{
  "nbformat": 4,
  "nbformat_minor": 0,
  "metadata": {
    "colab": {
      "provenance": [],
      "authorship_tag": "ABX9TyMWkQpxQcL88q27zhs4BU6H",
      "include_colab_link": true
    },
    "kernelspec": {
      "name": "python3",
      "display_name": "Python 3"
    },
    "language_info": {
      "name": "python"
    }
  },
  "cells": [
    {
      "cell_type": "markdown",
      "metadata": {
        "id": "view-in-github",
        "colab_type": "text"
      },
      "source": [
        "<a href=\"https://colab.research.google.com/github/luisfernandosoto/Matematicas-aplicadas-1/blob/main/Sotobedoyaluisfernando_A00406591.ipynb\" target=\"_parent\"><img src=\"https://colab.research.google.com/assets/colab-badge.svg\" alt=\"Open In Colab\"/></a>"
      ]
    },
    {
      "cell_type": "code",
      "execution_count": null,
      "metadata": {
        "id": "eiZLL4cWsAsh"
      },
      "outputs": [],
      "source": []
    },
    {
      "cell_type": "markdown",
      "source": [
        "Mi nombre es Luis fernando soto bedoya tengo 17 años, estudio la carrera de ingeniería telematica nací en Colombia, en la ciudad de cali, y vivo actualmente en la ciudad de cali, mis pasatiempos son leer, programar, y tocar la guitarra,soy alguien muy reservado pero cuando tomo confianza con alguien me desenvuelvo fácilmente dentro de un entorno social, también soy alguien apasionado porel mundo numérico y científico, y tambien por la música, tengo una familia que me apoya y se aferra siempre a las posibilidades de poder ayudarme en el recorrido social y universitario de mi vida."
      ],
      "metadata": {
        "id": "CSXdjP67s54F"
      }
    },
    {
      "cell_type": "code",
      "source": [],
      "metadata": {
        "id": "wbzuhxEY3aMy"
      },
      "execution_count": null,
      "outputs": []
    },
    {
      "cell_type": "code",
      "source": [],
      "metadata": {
        "id": "ilxFEpYHzkSS"
      },
      "execution_count": null,
      "outputs": []
    }
  ]
}