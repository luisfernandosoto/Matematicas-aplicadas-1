{
  "nbformat": 4,
  "nbformat_minor": 0,
  "metadata": {
    "colab": {
      "provenance": [],
      "name": "calculadora",
      "authorship_tag": "ABX9TyMG/GpsGeysX2OX7tnK13uR",
      "include_colab_link": true
    },
    "kernelspec": {
      "name": "python3",
      "display_name": "Python 3"
    },
    "language_info": {
      "name": "python"
    }
  },
  "cells": [
    {
      "cell_type": "markdown",
      "metadata": {
        "id": "view-in-github",
        "colab_type": "text"
      },
      "source": [
        "<a href=\"https://colab.research.google.com/github/luisfernandosoto/Matematicas-aplicadas-1/blob/main/calculadora.ipynb\" target=\"_parent\"><img src=\"https://colab.research.google.com/assets/colab-badge.svg\" alt=\"Open In Colab\"/></a>"
      ]
    },
    {
      "cell_type": "code",
      "execution_count": null,
      "metadata": {
        "colab": {
          "base_uri": "https://localhost:8080/"
        },
        "id": "sVSwwpMhpSUj",
        "outputId": "5e800b4d-2cb1-4319-c4fc-82d9db9e9836"
      },
      "outputs": [
        {
          "output_type": "stream",
          "name": "stdout",
          "text": [
            "----bienvenido a la calculadora----\n",
            "[1]. sumar\n",
            "[2]. restar\n",
            "[3]. multiplicar\n",
            "[4]. dividir\n",
            "[5]. raiz cuadrada\n",
            "[6]. seno\n",
            "[7]. exponencial\n",
            "[8]. salir\n",
            "que operacion desea elaborar? (|1 | 2 | 3 | 4 | 5 | 6 | 7 | 8 |):7\n",
            "ingrese el numero quiere elevar:6\n",
            "el elevado de 6 es:403.4287934927351\n"
          ]
        }
      ],
      "source": [
        "\n",
        "import math\n",
        "print(\"----bienvenido a la calculadora----\")\n",
        "print(\"[1]. sumar\")\n",
        "print(\"[2]. restar\")\n",
        "print(\"[3]. multiplicar\")\n",
        "print(\"[4]. dividir\")\n",
        "print(\"[5]. raiz cuadrada\")\n",
        "print(\"[6]. seno\")\n",
        "print(\"[7]. exponencial\")\n",
        "print(\"[8]. salir\")\n",
        "while True:\n",
        "   suggestion= int(input(\"que operacion desea elaborar? (|1 | 2 | 3 | 4 | 5 | 6 | 7 | 8 |):\"))\n",
        "   if suggestion==1:\n",
        "        a= int(input(\"ingrese el primer numero:\"))\n",
        "        b= int(input(\"ingrese el segundo numero:\"))\n",
        "        suma= a + b\n",
        "        print(f\"la suma entre {a} y {b} es :{suma}\")\n",
        "\n",
        "   elif suggestion==2:\n",
        "        c= int(input(\"ingrese el primer numero:\"))\n",
        "        d= int(input(\"ingrese el segundo numero:\"))\n",
        "        resta= c - d\n",
        "        print(f\"la resta entre {c} y {d} es: {resta}\")\n",
        "\n",
        "   elif suggestion==3:\n",
        "        e= int(input(\"ingrese el primer numero:\"))\n",
        "        f= int(input(\"ingrese el segundo numero:\"))\n",
        "        multiplicacion= e * f\n",
        "        print(f\"la multiplicacion entre {e} y {f} es: {multiplicacion}\")\n",
        "\n",
        "   elif suggestion==4:\n",
        "        g= int(input(\"ingrese el primer numero:\"))\n",
        "        h= int(input(\"ingrese el segundo numero:\"))\n",
        "        if h == 0:\n",
        "         print(\"no se puede dividir entre cero\")\n",
        "         print(\"error\")\n",
        "         break\n",
        "        else:\n",
        "         division= g / h\n",
        "        print(f\"le division entre {g} y {h} es:{division}\")\n",
        "   elif suggestion==5:\n",
        "    j= int(input(\"ingrese un numero que no sea negativo:\"))\n",
        "    raiz= math.sqrt(j)\n",
        "    print(f\"la raiz de {j} es: {raiz}\")\n",
        "   elif suggestion==6:\n",
        "    k= float(input(\"ingrese el angulo del que quiera hallar seno:\"))\n",
        "    angulo_radianes= math.radians(k)\n",
        "    resultado= math.sin(angulo_radianes)\n",
        "    print(f\"el seno del angulo {k} es:{resultado}\")\n",
        "   elif suggestion==7:\n",
        "    l= int(input(\"ingrese el numero quiere elevar:\"))\n",
        "    resultado_2= math.exp(l)\n",
        "    print(f\"el elevado de {l} es:{resultado_2}\")\n",
        "   elif suggestion==8:\n",
        "    print(\"muchas gracias por usar esta calculadora\")\n",
        "    break\n",
        "\n",
        "\n",
        "\n",
        "\n",
        "\n",
        "\n",
        "\n",
        "\n",
        "\n",
        "\n",
        "\n",
        "\n",
        "\n",
        "\n",
        "\n",
        "\n",
        "\n"
      ]
    }
  ]
}