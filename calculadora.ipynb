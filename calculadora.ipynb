{
  "nbformat": 4,
  "nbformat_minor": 0,
  "metadata": {
    "colab": {
      "provenance": [],
      "name": "calculadora",
      "authorship_tag": "ABX9TyNXbGPoriCNM6GBhEA3jS9d",
      "include_colab_link": true
    },
    "kernelspec": {
      "name": "python3",
      "display_name": "Python 3"
    },
    "language_info": {
      "name": "python"
    }
  },
  "cells": [
    {
      "cell_type": "markdown",
      "metadata": {
        "id": "view-in-github",
        "colab_type": "text"
      },
      "source": [
        "<a href=\"https://colab.research.google.com/github/luisfernandosoto/Matematicas-aplicadas-1/blob/main/calculadora.ipynb\" target=\"_parent\"><img src=\"https://colab.research.google.com/assets/colab-badge.svg\" alt=\"Open In Colab\"/></a>"
      ]
    },
    {
      "cell_type": "code",
      "execution_count": null,
      "metadata": {
        "colab": {
          "base_uri": "https://localhost:8080/"
        },
        "id": "sVSwwpMhpSUj",
        "outputId": "6c723060-4908-4fa7-b56a-eb23ee73c3d1"
      },
      "outputs": [
        {
          "output_type": "stream",
          "name": "stdout",
          "text": [
            "----bienvenido a la calculadora----\n",
            "[1]. sumar\n",
            "[2]. restar\n",
            "[3]. multiplicar\n",
            "[4]. dividir\n",
            "[5]. raiz cuadrada\n",
            "[6]. salir\n",
            "what is the operation want you do? (1,2,3,4,5,6):5\n",
            "insert a number that doesn't negative:5000\n",
            "the square root of 5000 is: 70.71067811865476\n"
          ]
        }
      ],
      "source": [
        "import math\n",
        "print(\"----bienvenido a la calculadora----\")\n",
        "print(\"[1]. sumar\")\n",
        "print(\"[2]. restar\")\n",
        "print(\"[3]. multiplicar\")\n",
        "print(\"[4]. dividir\")\n",
        "print(\"[5]. raiz cuadrada\")\n",
        "print(\"[6]. salir\")\n",
        "while True:\n",
        "   suggestion= int(input(\"what is the operation want you do? (1,2,3,4,5,6):\"))\n",
        "   if suggestion==1:\n",
        "        a= int(input(\"insert the first number:\"))\n",
        "        b= int(input(\"insert tha second number:\"))\n",
        "        plus= a + b\n",
        "        print(f\"the plus between {a} and {b} is :{plus}\")\n",
        "\n",
        "   elif suggestion==2:\n",
        "        c= int(input(\"insert the first number:\"))\n",
        "        d= int(input(\"insert tha second number:\"))\n",
        "        minus= c - d\n",
        "        print(f\"the minus between {c} and {d} is: {minus}\")\n",
        "\n",
        "   elif suggestion==3:\n",
        "        e= int(input(\"insert the first number:\"))\n",
        "        f= int(input(\"insert tha second number:\"))\n",
        "        multiplication= e * f\n",
        "        print(f\"the multiplication between {e} and {f} is: {multiplication}\")\n",
        "\n",
        "   elif suggestion==4:\n",
        "        g= int(input(\"insert the first number:\"))\n",
        "        h= int(input(\"insert the second number:\"))\n",
        "        if h == 0:\n",
        "         print(\"i can't do this\")\n",
        "         print(\"error\")\n",
        "         break\n",
        "        else:\n",
        "         division= g / h\n",
        "        print(f\"the division between {g} and {h} is:{division}\")\n",
        "   elif suggestion==5:\n",
        "    j= int(input(\"insert a number that doesn't negative:\"))\n",
        "    raiz= math.sqrt(j)\n",
        "    print(f\"the square root of {j} is: {raiz}\")\n",
        "   elif suggestion==6:\n",
        "    print(\"thank you for use the calculator\")\n",
        "    break\n",
        "\n",
        "\n",
        "\n",
        "\n",
        "\n",
        "\n",
        "\n",
        "\n",
        "\n",
        "\n",
        "\n",
        "\n",
        "\n",
        "\n"
      ]
    }
  ]
}