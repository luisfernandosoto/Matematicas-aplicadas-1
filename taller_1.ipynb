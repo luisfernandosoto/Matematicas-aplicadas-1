{
  "nbformat": 4,
  "nbformat_minor": 0,
  "metadata": {
    "colab": {
      "provenance": [],
      "authorship_tag": "ABX9TyOTqYsFygJkmC3yCadTxqmF",
      "include_colab_link": true
    },
    "kernelspec": {
      "name": "python3",
      "display_name": "Python 3"
    },
    "language_info": {
      "name": "python"
    }
  },
  "cells": [
    {
      "cell_type": "markdown",
      "metadata": {
        "id": "view-in-github",
        "colab_type": "text"
      },
      "source": [
        "<a href=\"https://colab.research.google.com/github/luisfernandosoto/Matematicas-aplicadas-1/blob/main/taller_1.ipynb\" target=\"_parent\"><img src=\"https://colab.research.google.com/assets/colab-badge.svg\" alt=\"Open In Colab\"/></a>"
      ]
    },
    {
      "cell_type": "markdown",
      "source": [
        "$[3(-5+10+(-5))-2((-2)+(-4)+10)]^2$"
      ],
      "metadata": {
        "id": "mNcYwfbyj_oF"
      }
    },
    {
      "cell_type": "code",
      "source": [
        "x= (3*(-5 + 10 +(-5)) -2*((-2) + (-4) + 10))**2\n",
        "print(x)\n",
        "\n"
      ],
      "metadata": {
        "colab": {
          "base_uri": "https://localhost:8080/"
        },
        "id": "syqQ47VilTHi",
        "outputId": "b14f82b0-28c8-4c16-f539-8d8a7fa9fa77"
      },
      "execution_count": 13,
      "outputs": [
        {
          "output_type": "stream",
          "name": "stdout",
          "text": [
            "64\n"
          ]
        }
      ]
    },
    {
      "cell_type": "markdown",
      "source": [
        "$45+[3(2+8)-8/4]+10-83$\n",
        "\n"
      ],
      "metadata": {
        "id": "CjWhdfaCs1nN"
      }
    },
    {
      "cell_type": "code",
      "source": [
        "k= 45 + (3*(2 + 8) - 8/4) + 10 - 83\n",
        "print(k)"
      ],
      "metadata": {
        "colab": {
          "base_uri": "https://localhost:8080/"
        },
        "id": "4lGTMTDEtTof",
        "outputId": "0b3cf470-01de-42fa-d1d4-047ec35e4f93"
      },
      "execution_count": 14,
      "outputs": [
        {
          "output_type": "stream",
          "name": "stdout",
          "text": [
            "0.0\n"
          ]
        }
      ]
    },
    {
      "cell_type": "markdown",
      "source": [
        "$[(-4+7)2-10](-4)-7-3$"
      ],
      "metadata": {
        "id": "N1JO30XuuJPY"
      }
    },
    {
      "cell_type": "code",
      "source": [
        "y= ((-4 + 7)* 2 -10)*(-4) - 7 - 3\n",
        "print(y)"
      ],
      "metadata": {
        "colab": {
          "base_uri": "https://localhost:8080/"
        },
        "id": "mdYORjQNunyF",
        "outputId": "ca8f42f5-7edc-4cbb-b93f-04da1479b586"
      },
      "execution_count": 16,
      "outputs": [
        {
          "output_type": "stream",
          "name": "stdout",
          "text": [
            "6\n"
          ]
        }
      ]
    },
    {
      "cell_type": "markdown",
      "source": [
        "$\\frac{1}{5}[(\\frac{1}{2})^{2}+(\\frac{3}{9})^{2}]+\\frac{10}{25}[(\\frac{1}{2})^{2}+(\\frac{3}{4})^{2}]+\\frac{8}{40}[(\\frac{1}{2})^{2}+(\\frac{3}{4})^{2}]$"
      ],
      "metadata": {
        "id": "TusQvmUYvht2"
      }
    },
    {
      "cell_type": "code",
      "source": [
        "z= 1/5*((1/4) + (9/16)) + 10/25*((1/4) + (9/16)) + 8/40*((1/4) + (9/16))\n",
        "print(z)"
      ],
      "metadata": {
        "colab": {
          "base_uri": "https://localhost:8080/"
        },
        "id": "ZrTZts3CwRAn",
        "outputId": "8f592935-f148-4fb1-ae75-66f4e59a49a9"
      },
      "execution_count": 17,
      "outputs": [
        {
          "output_type": "stream",
          "name": "stdout",
          "text": [
            "0.65\n"
          ]
        }
      ]
    },
    {
      "cell_type": "markdown",
      "source": [
        "$\\frac{9}{4}[(\\frac{6}{8})^{-1}-\\frac{5}{2}(\\frac{25}{20})^{-1}+\\frac{40}{8}(\\frac{20}{16})^{-1}]$"
      ],
      "metadata": {
        "id": "5emwLqRfyACX"
      }
    },
    {
      "cell_type": "code",
      "source": [
        "l= 9/4*((8/6) - 5/2*(20/25) + 5*(16/20))\n",
        "print(l)"
      ],
      "metadata": {
        "colab": {
          "base_uri": "https://localhost:8080/"
        },
        "id": "qLeU7mouyCfV",
        "outputId": "3d8a75fc-2eca-45a2-f85c-ec42fa894bc1"
      },
      "execution_count": 19,
      "outputs": [
        {
          "output_type": "stream",
          "name": "stdout",
          "text": [
            "7.499999999999999\n"
          ]
        }
      ]
    },
    {
      "cell_type": "markdown",
      "source": [
        "#Area lateral de un cilindro"
      ],
      "metadata": {
        "id": "HJn3UMDCzUVd"
      }
    },
    {
      "cell_type": "markdown",
      "source": [
        "$A=2\\times \\pi\\times r$"
      ],
      "metadata": {
        "id": "eH7en7jezgvN"
      }
    },
    {
      "cell_type": "markdown",
      "source": [
        "$r= \\frac{2\\pi}{A}$"
      ],
      "metadata": {
        "id": "SumL6Yj00LVs"
      }
    }
  ]
}