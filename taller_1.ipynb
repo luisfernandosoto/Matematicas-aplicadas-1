{
  "nbformat": 4,
  "nbformat_minor": 0,
  "metadata": {
    "colab": {
      "provenance": [],
      "authorship_tag": "ABX9TyPCab5c5CVRdM+Hi+cVhTZY",
      "include_colab_link": true
    },
    "kernelspec": {
      "name": "python3",
      "display_name": "Python 3"
    },
    "language_info": {
      "name": "python"
    }
  },
  "cells": [
    {
      "cell_type": "markdown",
      "metadata": {
        "id": "view-in-github",
        "colab_type": "text"
      },
      "source": [
        "<a href=\"https://colab.research.google.com/github/luisfernandosoto/Matematicas-aplicadas-1/blob/main/taller_1.ipynb\" target=\"_parent\"><img src=\"https://colab.research.google.com/assets/colab-badge.svg\" alt=\"Open In Colab\"/></a>"
      ]
    },
    {
      "cell_type": "markdown",
      "source": [
        "$[3(-5+10+(-5))-2((-2)+(-4)+10)]^2$"
      ],
      "metadata": {
        "id": "mNcYwfbyj_oF"
      }
    },
    {
      "cell_type": "code",
      "source": [
        "x= (3*(-5 + 10 +(-5)) -2*((-2) + (-4) + 10))**2\n",
        "print(x)\n",
        "\n"
      ],
      "metadata": {
        "colab": {
          "base_uri": "https://localhost:8080/"
        },
        "id": "syqQ47VilTHi",
        "outputId": "b14f82b0-28c8-4c16-f539-8d8a7fa9fa77"
      },
      "execution_count": null,
      "outputs": [
        {
          "output_type": "stream",
          "name": "stdout",
          "text": [
            "64\n"
          ]
        }
      ]
    },
    {
      "cell_type": "markdown",
      "source": [
        "$45+[3(2+8)-8/4]+10-83$\n",
        "\n"
      ],
      "metadata": {
        "id": "CjWhdfaCs1nN"
      }
    },
    {
      "cell_type": "code",
      "source": [
        "k= 45 + (3*(2 + 8) - 8/4) + 10 - 83\n",
        "print(k)"
      ],
      "metadata": {
        "colab": {
          "base_uri": "https://localhost:8080/"
        },
        "id": "4lGTMTDEtTof",
        "outputId": "0b3cf470-01de-42fa-d1d4-047ec35e4f93"
      },
      "execution_count": null,
      "outputs": [
        {
          "output_type": "stream",
          "name": "stdout",
          "text": [
            "0.0\n"
          ]
        }
      ]
    },
    {
      "cell_type": "markdown",
      "source": [
        "$[(-4+7)2-10](-4)-7-3$"
      ],
      "metadata": {
        "id": "N1JO30XuuJPY"
      }
    },
    {
      "cell_type": "code",
      "source": [
        "y= ((-4 + 7)* 2 -10)*(-4) - 7 - 3\n",
        "print(y)"
      ],
      "metadata": {
        "colab": {
          "base_uri": "https://localhost:8080/"
        },
        "id": "mdYORjQNunyF",
        "outputId": "ca8f42f5-7edc-4cbb-b93f-04da1479b586"
      },
      "execution_count": null,
      "outputs": [
        {
          "output_type": "stream",
          "name": "stdout",
          "text": [
            "6\n"
          ]
        }
      ]
    },
    {
      "cell_type": "markdown",
      "source": [
        "$\\frac{1}{5}[(\\frac{1}{2})^{2}+(\\frac{3}{9})^{2}]+\\frac{10}{25}[(\\frac{1}{2})^{2}+(\\frac{3}{4})^{2}]+\\frac{8}{40}[(\\frac{1}{2})^{2}+(\\frac{3}{4})^{2}]$"
      ],
      "metadata": {
        "id": "TusQvmUYvht2"
      }
    },
    {
      "cell_type": "code",
      "source": [
        "z= 1/5*((1/4) + (9/16)) + 10/25*((1/4) + (9/16)) + 8/40*((1/4) + (9/16))\n",
        "print(z)"
      ],
      "metadata": {
        "colab": {
          "base_uri": "https://localhost:8080/"
        },
        "id": "ZrTZts3CwRAn",
        "outputId": "8f592935-f148-4fb1-ae75-66f4e59a49a9"
      },
      "execution_count": null,
      "outputs": [
        {
          "output_type": "stream",
          "name": "stdout",
          "text": [
            "0.65\n"
          ]
        }
      ]
    },
    {
      "cell_type": "markdown",
      "source": [
        "$\\frac{9}{4}[(\\frac{6}{8})^{-1}-\\frac{5}{2}(\\frac{25}{20})^{-1}+\\frac{40}{8}(\\frac{20}{16})^{-1}]$"
      ],
      "metadata": {
        "id": "5emwLqRfyACX"
      }
    },
    {
      "cell_type": "code",
      "source": [
        "l= 9/4*((8/6) - 5/2*(20/25) + 5*(16/20))\n",
        "print(l)"
      ],
      "metadata": {
        "colab": {
          "base_uri": "https://localhost:8080/"
        },
        "id": "qLeU7mouyCfV",
        "outputId": "3d8a75fc-2eca-45a2-f85c-ec42fa894bc1"
      },
      "execution_count": null,
      "outputs": [
        {
          "output_type": "stream",
          "name": "stdout",
          "text": [
            "7.499999999999999\n"
          ]
        }
      ]
    },
    {
      "cell_type": "markdown",
      "source": [
        "#Area lateral de un cilindro"
      ],
      "metadata": {
        "id": "HJn3UMDCzUVd"
      }
    },
    {
      "cell_type": "markdown",
      "source": [
        "$A=2\\times \\pi\\times r\\times g$"
      ],
      "metadata": {
        "id": "eH7en7jezgvN"
      }
    },
    {
      "cell_type": "markdown",
      "source": [
        "$r= \\frac{2\\pi\\times g}{A}$"
      ],
      "metadata": {
        "id": "SumL6Yj00LVs"
      }
    },
    {
      "cell_type": "markdown",
      "source": [
        "##Volumen de un cono"
      ],
      "metadata": {
        "id": "Duhh96Nw1cYM"
      }
    },
    {
      "cell_type": "markdown",
      "source": [
        "$V= \\frac{A_{B} \\times h}{3}$"
      ],
      "metadata": {
        "id": "iKpaAWI21gNX"
      }
    },
    {
      "cell_type": "markdown",
      "source": [
        "$\\frac{V\\times 3}{A_{B}}=h$"
      ],
      "metadata": {
        "id": "MFKgfg6O2CHF"
      }
    },
    {
      "cell_type": "markdown",
      "source": [
        "##volumen de la esfera"
      ],
      "metadata": {
        "id": "aWHZPLf43SG2"
      }
    },
    {
      "cell_type": "markdown",
      "source": [
        "$V= \\frac{4}{3}\\pi\\times r^{3}$"
      ],
      "metadata": {
        "id": "0j7f8Yls3ukf"
      }
    },
    {
      "cell_type": "markdown",
      "source": [
        "$r= \\sqrt[3]{\\frac{3V}{4\\pi}}$"
      ],
      "metadata": {
        "id": "jfMBR5GG4d9J"
      }
    },
    {
      "cell_type": "markdown",
      "source": [
        "##3.1"
      ],
      "metadata": {
        "id": "8dwQhhYiA8PV"
      }
    },
    {
      "cell_type": "code",
      "source": [
        "import math\n",
        "lista=[]\n",
        "cuadrados=[]\n",
        "cubos=[]\n",
        "raices=[]\n",
        "\n",
        "decision= int(input(\"cuantos numeros desea agregar:\"))\n",
        "for i in range(decision):\n",
        "    numeros= int(input(\"ingrese el numero:\"))\n",
        "    lista.append({\"lista\": numeros})\n",
        "    print(lista)\n",
        "    numeros_al_cuadrado= numeros**2\n",
        "    cuadrados.append({\"cuadrados\": numeros_al_cuadrado})\n",
        "    print(cuadrados)\n",
        "    numeros_al_cubo= numeros**3\n",
        "    cubos.append({\"cubos\": numeros_al_cubo})\n",
        "    print(cubos)\n",
        "    raiz= math.sqrt(numeros)\n",
        "    raices.append({\"raices\": raiz})\n",
        "    print(raices)\n",
        "\n",
        "\n",
        "\n"
      ],
      "metadata": {
        "colab": {
          "base_uri": "https://localhost:8080/"
        },
        "id": "ebgoiTMU5s8s",
        "outputId": "2d4a651c-ae82-4e13-83ce-c6ac8812ccf7"
      },
      "execution_count": null,
      "outputs": [
        {
          "output_type": "stream",
          "name": "stdout",
          "text": [
            "cuantos numeros desea agregar:3\n",
            "ingrese los numeros:2\n",
            "[{'lista': 2}]\n",
            "[{'cuadrados': 4}]\n",
            "[{'cubos': 8}]\n",
            "[{'raices': 1.4142135623730951}]\n",
            "ingrese los numeros:4\n",
            "[{'lista': 2}, {'lista': 4}]\n",
            "[{'cuadrados': 4}, {'cuadrados': 16}]\n",
            "[{'cubos': 8}, {'cubos': 64}]\n",
            "[{'raices': 1.4142135623730951}, {'raices': 2.0}]\n",
            "ingrese los numeros:6\n",
            "[{'lista': 2}, {'lista': 4}, {'lista': 6}]\n",
            "[{'cuadrados': 4}, {'cuadrados': 16}, {'cuadrados': 36}]\n",
            "[{'cubos': 8}, {'cubos': 64}, {'cubos': 216}]\n",
            "[{'raices': 1.4142135623730951}, {'raices': 2.0}, {'raices': 2.449489742783178}]\n"
          ]
        }
      ]
    },
    {
      "cell_type": "markdown",
      "source": [
        "##3.2\n"
      ],
      "metadata": {
        "id": "7lcGtzwxA1hR"
      }
    },
    {
      "cell_type": "code",
      "source": [
        "semestre_pasado=[]\n",
        "decision= int(input(\"ingrese la cantidad de materias que curso en el semestre pasado:\"))\n",
        "for i in range(decision):\n",
        "    subjects= input(\"ingrese el nombre de la materia:\")\n",
        "    grade= float(input(\"ingrese la nota de la materia:\"))\n",
        "    semestre_pasado.append({\"materia\": subjects, \"notas\": grade })\n",
        "    if grade >= 4.0:\n",
        "        print(\"tienes una nota nivel superior\")\n",
        "    if grade == 3.5 and grade < 4.0:\n",
        "        print(\"asignatura aprobada pero debe asistir a plan de mejoramiento, dirijirse a CAMBAS\")\n",
        "    if grade < 3.5:\n",
        "        print(\"materia no aprobada, debe repetirla el siguiente semestre\")\n",
        "    if grade < 0.0 or grade > 5.0:\n",
        "      print(\"error, vuelva a digitar la nota\")\n",
        "      grade= float(input(\"ingrese la nota de la materia:\"))\n",
        "print(semestre_pasado)\n",
        "\n"
      ],
      "metadata": {
        "colab": {
          "base_uri": "https://localhost:8080/"
        },
        "id": "ows8S7kD9Dzd",
        "outputId": "178f83d1-dd89-46a9-9b68-5c2f828d1562"
      },
      "execution_count": 25,
      "outputs": [
        {
          "output_type": "stream",
          "name": "stdout",
          "text": [
            "ingrese la cantidad de materias que curso en el semestre pasado:3\n",
            "ingrese el nombre de la materia:algebra\n",
            "ingrese la nota de la materia:4.5\n",
            "tienes una nota nivel superior\n",
            "ingrese el nombre de la materia:logica\n",
            "ingrese la nota de la materia:4.6\n",
            "tienes una nota nivel superior\n",
            "ingrese el nombre de la materia:fundamentos\n",
            "ingrese la nota de la materia:4.7\n",
            "tienes una nota nivel superior\n",
            "[{'materia': 'algebra', 'notas': 4.5}, {'materia': 'logica', 'notas': 4.6}, {'materia': 'fundamentos', 'notas': 4.7}]\n"
          ]
        }
      ]
    },
    {
      "cell_type": "markdown",
      "source": [
        "##3.3"
      ],
      "metadata": {
        "id": "tZ7jfVH5A_L8"
      }
    },
    {
      "cell_type": "code",
      "source": [
        "barril_petroleo=[76.65, 75.34, 75.03, 78.85, 80.79, 80.65, 79.58 ]\n",
        "precio_litro_cocacola= 3500\n",
        "litros_a_barriles= 158.987\n",
        "barril_cocacola= float(precio_litro_cocacola * litros_a_barriles)\n",
        "print(barril_cocacola)\n",
        "tasa_cambio= 4081\n",
        "precios_petroleo_cop = [precio * tasa_cambio for precio in barril_petroleo]\n",
        "precio_barril_cocacola_cop = barril_cocacola * tasa_cambio\n",
        "relacion_precios_cop = [precio_petroleo / precio_barril_cocacola_cop for precio_petroleo in precios_petroleo_cop]\n",
        "\n",
        "conclusion = f\"\"\"\n",
        "Comparando los precios del barril de petróleo con un barril de Coca-Cola en pesos colombianos, se observa que:\n",
        "El precio promedio del barril de petróleo en los últimos 7 días fue de: {sum(precios_petroleo_cop) / len(precios_petroleo_cop):,.0f} PESOS COLOMBIANOS\n",
        "El precio de un barril de Coca-Cola, considerando un precio de:{precio_litro_cocacola} dólares por litro, sería de {precio_barril_cocacola_cop:,.0f} PESOS COLOMBIANOS\n",
        "La proporción entre el precio del barril de petróleo y el de CocaCola varía entre los valores: {relacion_precios_cop}.\n",
        "\n",
        "Esto muestra que el precio de un barril de Coca-Cola es significativamente más alto que el del petróleo, incluso cuando se mide en la misma unidad de volumen y se convierte a pesos colombianos.\n",
        "\"\"\"\n",
        "\n",
        "print(conclusion)\n",
        "\n",
        "\n"
      ],
      "metadata": {
        "colab": {
          "base_uri": "https://localhost:8080/"
        },
        "id": "a7pVIph9Auwq",
        "outputId": "b73d0b26-bbed-47d7-a89a-825545f114b1"
      },
      "execution_count": 11,
      "outputs": [
        {
          "output_type": "stream",
          "name": "stdout",
          "text": [
            "556454.5\n",
            "\n",
            "Comparando los precios del barril de petróleo con un barril de Coca-Cola en pesos colombianos, se observa que:\n",
            "El precio promedio del barril de petróleo en los últimos 7 días fue de: 318,837 PESOS COLOMBIANOS\n",
            "El precio de un barril de Coca-Cola, considerando un precio de:3500 dólares por litro, sería de 2,270,890,814 PESOS COLOMBIANOS\n",
            "La proporción entre el precio del barril de petróleo y el de CocaCola varía entre los valores: [0.0001377471113990452, 0.00013539292071499109, 0.0001348358221561691, 0.00014170071407455594, 0.00014518707279750638, 0.00014493547989997385, 0.00014301259132597544].\n",
            "\n",
            "Esto muestra que el precio de un barril de Coca-Cola es significativamente más alto que el del petróleo, incluso cuando se mide en la misma unidad de volumen y se convierte a pesos colombianos.\n",
            "\n"
          ]
        }
      ]
    }
  ]
}