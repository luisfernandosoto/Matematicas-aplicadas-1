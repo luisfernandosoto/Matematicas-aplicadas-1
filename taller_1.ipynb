{
  "nbformat": 4,
  "nbformat_minor": 0,
  "metadata": {
    "colab": {
      "provenance": [],
      "authorship_tag": "ABX9TyMCWVv9JaPhQxo10B9A7QG3",
      "include_colab_link": true
    },
    "kernelspec": {
      "name": "python3",
      "display_name": "Python 3"
    },
    "language_info": {
      "name": "python"
    }
  },
  "cells": [
    {
      "cell_type": "markdown",
      "metadata": {
        "id": "view-in-github",
        "colab_type": "text"
      },
      "source": [
        "<a href=\"https://colab.research.google.com/github/luisfernandosoto/Matematicas-aplicadas-1/blob/main/taller_1.ipynb\" target=\"_parent\"><img src=\"https://colab.research.google.com/assets/colab-badge.svg\" alt=\"Open In Colab\"/></a>"
      ]
    },
    {
      "cell_type": "markdown",
      "source": [
        "$[3(-5+10+(-5))-2((-2)+(-4)+10)]^2$"
      ],
      "metadata": {
        "id": "mNcYwfbyj_oF"
      }
    },
    {
      "cell_type": "code",
      "source": [
        "x= (3*(-5 + 10 +(-5)) -2*((-2) + (-4) + 10))**2\n",
        "print(x)\n",
        "\n"
      ],
      "metadata": {
        "colab": {
          "base_uri": "https://localhost:8080/"
        },
        "id": "syqQ47VilTHi",
        "outputId": "b14f82b0-28c8-4c16-f539-8d8a7fa9fa77"
      },
      "execution_count": 13,
      "outputs": [
        {
          "output_type": "stream",
          "name": "stdout",
          "text": [
            "64\n"
          ]
        }
      ]
    },
    {
      "cell_type": "markdown",
      "source": [
        "$45+[3(2+8)-8/4]+10-83$\n",
        "\n"
      ],
      "metadata": {
        "id": "CjWhdfaCs1nN"
      }
    },
    {
      "cell_type": "code",
      "source": [
        "k= 45 + (3*(2 + 8) - 8/4) + 10 - 83\n",
        "print(k)"
      ],
      "metadata": {
        "colab": {
          "base_uri": "https://localhost:8080/"
        },
        "id": "4lGTMTDEtTof",
        "outputId": "0b3cf470-01de-42fa-d1d4-047ec35e4f93"
      },
      "execution_count": 14,
      "outputs": [
        {
          "output_type": "stream",
          "name": "stdout",
          "text": [
            "0.0\n"
          ]
        }
      ]
    },
    {
      "cell_type": "markdown",
      "source": [
        "$[(-4+7)2-10](-4)-7-3$"
      ],
      "metadata": {
        "id": "N1JO30XuuJPY"
      }
    },
    {
      "cell_type": "code",
      "source": [
        "y= ((-4 + 7)* 2 -10)*(-4) - 7 - 3\n",
        "print(y)"
      ],
      "metadata": {
        "colab": {
          "base_uri": "https://localhost:8080/"
        },
        "id": "mdYORjQNunyF",
        "outputId": "ca8f42f5-7edc-4cbb-b93f-04da1479b586"
      },
      "execution_count": 16,
      "outputs": [
        {
          "output_type": "stream",
          "name": "stdout",
          "text": [
            "6\n"
          ]
        }
      ]
    },
    {
      "cell_type": "markdown",
      "source": [
        "$\\frac{1}{5}[(\\frac{1}{2})^{2}+(\\frac{3}{9})^{2}]+\\frac{10}{25}[(\\frac{1}{2})^{2}+(\\frac{3}{4})^{2}]+\\frac{8}{40}[(\\frac{1}{2})^{2}+(\\frac{3}{4})^{2}]$"
      ],
      "metadata": {
        "id": "TusQvmUYvht2"
      }
    },
    {
      "cell_type": "code",
      "source": [
        "z= 1/5*((1/4) + (9/16)) + 10/25*((1/4) + (9/16)) + 8/40*((1/4) + (9/16))\n",
        "print(z)"
      ],
      "metadata": {
        "colab": {
          "base_uri": "https://localhost:8080/"
        },
        "id": "ZrTZts3CwRAn",
        "outputId": "8f592935-f148-4fb1-ae75-66f4e59a49a9"
      },
      "execution_count": 17,
      "outputs": [
        {
          "output_type": "stream",
          "name": "stdout",
          "text": [
            "0.65\n"
          ]
        }
      ]
    },
    {
      "cell_type": "markdown",
      "source": [
        "$\\frac{9}{4}[(\\frac{6}{8})^{-1}-\\frac{5}{2}(\\frac{25}{20})^{-1}+\\frac{40}{8}(\\frac{20}{16})^{-1}]$"
      ],
      "metadata": {
        "id": "5emwLqRfyACX"
      }
    },
    {
      "cell_type": "code",
      "source": [
        "l= 9/4*((8/6) - 5/2*(20/25) + 5*(16/20))\n",
        "print(l)"
      ],
      "metadata": {
        "colab": {
          "base_uri": "https://localhost:8080/"
        },
        "id": "qLeU7mouyCfV",
        "outputId": "3d8a75fc-2eca-45a2-f85c-ec42fa894bc1"
      },
      "execution_count": 19,
      "outputs": [
        {
          "output_type": "stream",
          "name": "stdout",
          "text": [
            "7.499999999999999\n"
          ]
        }
      ]
    },
    {
      "cell_type": "markdown",
      "source": [
        "#Area lateral de un cilindro"
      ],
      "metadata": {
        "id": "HJn3UMDCzUVd"
      }
    },
    {
      "cell_type": "markdown",
      "source": [
        "$A=2\\times \\pi\\times r\\times g$"
      ],
      "metadata": {
        "id": "eH7en7jezgvN"
      }
    },
    {
      "cell_type": "markdown",
      "source": [
        "$r= \\frac{2\\pi\\times g}{A}$"
      ],
      "metadata": {
        "id": "SumL6Yj00LVs"
      }
    },
    {
      "cell_type": "markdown",
      "source": [
        "##Volumen de un cono"
      ],
      "metadata": {
        "id": "Duhh96Nw1cYM"
      }
    },
    {
      "cell_type": "markdown",
      "source": [
        "$V= \\frac{A_{B} \\times h}{3}$"
      ],
      "metadata": {
        "id": "iKpaAWI21gNX"
      }
    },
    {
      "cell_type": "markdown",
      "source": [
        "$\\frac{V\\times 3}{A_{B}}=h$"
      ],
      "metadata": {
        "id": "MFKgfg6O2CHF"
      }
    },
    {
      "cell_type": "markdown",
      "source": [
        "##volumen de la esfera"
      ],
      "metadata": {
        "id": "aWHZPLf43SG2"
      }
    },
    {
      "cell_type": "markdown",
      "source": [
        "$V= \\frac{4}{3}\\pi\\times r^{3}$"
      ],
      "metadata": {
        "id": "0j7f8Yls3ukf"
      }
    },
    {
      "cell_type": "markdown",
      "source": [
        "$r= \\sqrt[3]{\\frac{3V}{4\\pi}}$"
      ],
      "metadata": {
        "id": "jfMBR5GG4d9J"
      }
    },
    {
      "cell_type": "markdown",
      "source": [
        "##3.1"
      ],
      "metadata": {
        "id": "8dwQhhYiA8PV"
      }
    },
    {
      "cell_type": "code",
      "source": [
        "import math\n",
        "lista=[]\n",
        "cuadrados=[]\n",
        "cubos=[]\n",
        "raices=[]\n",
        "\n",
        "decision= int(input(\"cuantos numeros desea agregar:\"))\n",
        "for i in range(decision):\n",
        "    numeros= int(input(\"ingrese el numero:\"))\n",
        "    lista.append({\"lista\": numeros})\n",
        "    print(lista)\n",
        "    numeros_al_cuadrado= numeros**2\n",
        "    cuadrados.append({\"cuadrados\": numeros_al_cuadrado})\n",
        "    print(cuadrados)\n",
        "    numeros_al_cubo= numeros**3\n",
        "    cubos.append({\"cubos\": numeros_al_cubo})\n",
        "    print(cubos)\n",
        "    raiz= math.sqrt(numeros)\n",
        "    raices.append({\"raices\": raiz})\n",
        "    print(raices)\n",
        "\n",
        "\n",
        "\n"
      ],
      "metadata": {
        "colab": {
          "base_uri": "https://localhost:8080/"
        },
        "id": "ebgoiTMU5s8s",
        "outputId": "2d4a651c-ae82-4e13-83ce-c6ac8812ccf7"
      },
      "execution_count": 23,
      "outputs": [
        {
          "output_type": "stream",
          "name": "stdout",
          "text": [
            "cuantos numeros desea agregar:3\n",
            "ingrese los numeros:2\n",
            "[{'lista': 2}]\n",
            "[{'cuadrados': 4}]\n",
            "[{'cubos': 8}]\n",
            "[{'raices': 1.4142135623730951}]\n",
            "ingrese los numeros:4\n",
            "[{'lista': 2}, {'lista': 4}]\n",
            "[{'cuadrados': 4}, {'cuadrados': 16}]\n",
            "[{'cubos': 8}, {'cubos': 64}]\n",
            "[{'raices': 1.4142135623730951}, {'raices': 2.0}]\n",
            "ingrese los numeros:6\n",
            "[{'lista': 2}, {'lista': 4}, {'lista': 6}]\n",
            "[{'cuadrados': 4}, {'cuadrados': 16}, {'cuadrados': 36}]\n",
            "[{'cubos': 8}, {'cubos': 64}, {'cubos': 216}]\n",
            "[{'raices': 1.4142135623730951}, {'raices': 2.0}, {'raices': 2.449489742783178}]\n"
          ]
        }
      ]
    },
    {
      "cell_type": "markdown",
      "source": [
        "##3.2\n"
      ],
      "metadata": {
        "id": "7lcGtzwxA1hR"
      }
    },
    {
      "cell_type": "code",
      "source": [
        "semestre_pasado=[]\n",
        "decision= int(input(\"ingrese la cantidad de materias que curso en el semestre pasado:\"))\n",
        "for i in range(decision):\n",
        "    subjects= input(\"ingrese el nombre de la materia:\")\n",
        "    grade= float(input(\"ingrese la nota de la materia:\"))\n",
        "    semestre_pasado.append({\"materias\": subjects, \"notas\": grade })\n",
        "    if grade >= 4.0:\n",
        "        print(\"tienes una nota nivel superior\")\n",
        "    if grade == 3.5 and grade < 4.0:\n",
        "        print(\"asignatura aprobada pero debe asistir a plan de mejoramiento, dirijirse a CAMBAS\")\n",
        "    if grade < 3.5:\n",
        "        print(\"materia no aprobada, debe repetirla el siguiente semestre\")\n"
      ],
      "metadata": {
        "colab": {
          "base_uri": "https://localhost:8080/"
        },
        "id": "ows8S7kD9Dzd",
        "outputId": "9bcb6d30-0c6b-4f10-a7ca-40a5e48dab5a"
      },
      "execution_count": 25,
      "outputs": [
        {
          "output_type": "stream",
          "name": "stdout",
          "text": [
            "ingrese la cantidad de materias que curso en el semestre pasado:4\n",
            "ingrese el nombre de la materia:algebra\n",
            "ingrese la nota de la materia:4.5\n",
            "tienes una nota nivel superior\n",
            "ingrese el nombre de la materia:fundamentos\n",
            "ingrese la nota de la materia:4.0\n",
            "tienes una nota nivel superior\n",
            "ingrese el nombre de la materia:organizaciones\n",
            "ingrese la nota de la materia:4.2\n",
            "tienes una nota nivel superior\n",
            "ingrese el nombre de la materia:introduccion\n",
            "ingrese la nota de la materia:4.4\n",
            "tienes una nota nivel superior\n"
          ]
        }
      ]
    },
    {
      "cell_type": "markdown",
      "source": [
        "##3.3"
      ],
      "metadata": {
        "id": "tZ7jfVH5A_L8"
      }
    },
    {
      "cell_type": "code",
      "source": [
        "import requests\n",
        "precio_barril_petroleo=[]\n",
        "\n"
      ],
      "metadata": {
        "id": "a7pVIph9Auwq"
      },
      "execution_count": null,
      "outputs": []
    }
  ]
}