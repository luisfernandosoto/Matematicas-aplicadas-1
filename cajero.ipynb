{
  "nbformat": 4,
  "nbformat_minor": 0,
  "metadata": {
    "colab": {
      "provenance": [],
      "authorship_tag": "ABX9TyPGqh4n9FKWEaAwHLz8Ich/",
      "include_colab_link": true
    },
    "kernelspec": {
      "name": "python3",
      "display_name": "Python 3"
    },
    "language_info": {
      "name": "python"
    }
  },
  "cells": [
    {
      "cell_type": "markdown",
      "metadata": {
        "id": "view-in-github",
        "colab_type": "text"
      },
      "source": [
        "<a href=\"https://colab.research.google.com/github/luisfernandosoto/Matematicas-aplicadas-1/blob/main/cajero.ipynb\" target=\"_parent\"><img src=\"https://colab.research.google.com/assets/colab-badge.svg\" alt=\"Open In Colab\"/></a>"
      ]
    },
    {
      "cell_type": "markdown",
      "source": [
        "##Nombres##\n",
        "##Daniel Martinez A00404992##\n",
        "##Juan David Fajardo A00406516##\n",
        "##Jhony Bolaños A00407209##\n",
        "##Luis Fernando Soto A00406591##"
      ],
      "metadata": {
        "id": "jkTai4Tk1aqE"
      }
    },
    {
      "cell_type": "code",
      "execution_count": null,
      "metadata": {
        "colab": {
          "base_uri": "https://localhost:8080/"
        },
        "id": "SpEsG_gmkifG",
        "outputId": "a76438e5-df1c-4fbe-f2ab-2f2409cc4d1a"
      },
      "outputs": [
        {
          "output_type": "stream",
          "name": "stdout",
          "text": [
            "Bienvenido al PlataYa\n",
            "Please create the name of your accountLuis\n",
            "Please create a password (this password must be in numbers):12453\n",
            "Enter your already created password: 12453\n",
            "Password verified successfully!\n",
            "Welcome to your account Luis\n",
            "Opciones: 1. Depositar 2. Ver saldo 3. Retirar 4. Transferir 5. Salir\n",
            "Seleccione una opción: 1\n",
            "Ingrese la cantidad a depositar: 20000\n",
            "Su saldo actual es: 29400.0\n",
            "Opciones: 1. Depositar 2. Ver saldo 3. Retirar 4. Transferir 5. Salir\n",
            "Seleccione una opción: 2\n",
            "Su saldo actual es: 29400.0\n",
            "Opciones: 1. Depositar 2. Ver saldo 3. Retirar 4. Transferir 5. Salir\n",
            "Seleccione una opción: 3\n",
            "Ingrese la cantidad a retirar: 20000\n",
            "Su saldo actual es: 9400.0\n",
            "Opciones: 1. Depositar 2. Ver saldo 3. Retirar 4. Transferir 5. Salir\n",
            "Seleccione una opción: 4\n",
            "Ingrese la cantidad a transferir: 10000\n",
            "Fondos insuficientes.\n",
            "Opciones: 1. Depositar 2. Ver saldo 3. Retirar 4. Transferir 5. Salir\n",
            "Seleccione una opción: 4\n",
            "Ingrese la cantidad a transferir: 9000\n",
            "Ingrese el nombre de la cuenta de destino: Jhony\n",
            "Se realizó la transferencia a la cuenta: Jhony\n",
            "Su saldo actual es: 400.0\n",
            "Opciones: 1. Depositar 2. Ver saldo 3. Retirar 4. Transferir 5. Salir\n",
            "Seleccione una opción: 5\n",
            "Gracias por usar PlataYa.\n"
          ]
        }
      ],
      "source": [
        "import numpy as np\n",
        "\n",
        "print(\"Bienvenido al PlataYa\")\n",
        "Saldo = np.random.choice(np.linspace(100, 10000, 100))\n",
        "\n",
        "account_names = []\n",
        "account_passwords = []\n",
        "\n",
        "Nombrecuenta = input(\"Please create the name of your account\")\n",
        "Password = int(input(\"Please create a password (this password must be in numbers):\"))\n",
        "# Verification process\n",
        "account_names.append(Nombrecuenta)\n",
        "account_passwords.append(Password)\n",
        "verificationPassword = int(input(\"Enter your already created password: \"))\n",
        "if Password == verificationPassword:\n",
        "    print(\"Password verified successfully!\")\n",
        "    print(\"Welcome to your account \" + Nombrecuenta) # Now Nombrecuenta holds the user input\n",
        "\n",
        "    while True:\n",
        "        print(\"Opciones: 1. Depositar 2. Ver saldo 3. Retirar 4. Transferir 5. Salir\")\n",
        "\n",
        "        opcion = int(input(\"Seleccione una opción: \"))\n",
        "\n",
        "        if opcion == 1:\n",
        "            cantidad = int(input(\"Ingrese la cantidad a depositar: \"))\n",
        "            Saldo += cantidad\n",
        "            print(\"Su saldo actual es: \" + str(Saldo))\n",
        "        elif opcion == 2:\n",
        "            print(\"Su saldo actual es: \" + str(Saldo))\n",
        "        elif opcion == 3:\n",
        "            cantidad = int(input(\"Ingrese la cantidad a retirar: \"))\n",
        "            if cantidad <= Saldo:\n",
        "                Saldo -= cantidad\n",
        "                print(\"Su saldo actual es: \" + str(Saldo))\n",
        "            else:\n",
        "                print(\"Fondos insuficientes.\")\n",
        "        elif opcion == 4:\n",
        "            cantidad = int(input(\"Ingrese la cantidad a transferir: \"))\n",
        "            if cantidad <= Saldo:\n",
        "                cuenta_transferencia = input(\"Ingrese el nombre de la cuenta de destino: \")\n",
        "                Saldo -= cantidad\n",
        "                print(\"Se realizó la transferencia a la cuenta: \" + cuenta_transferencia)\n",
        "                print(\"Su saldo actual es: \" + str(Saldo))\n",
        "            else:\n",
        "                print(\"Fondos insuficientes.\")\n",
        "        elif opcion == 5:\n",
        "            print(\"Gracias por usar PlataYa.\")\n",
        "            break\n",
        "        else:\n",
        "            print(\"Opción inválida\")\n",
        "else:\n",
        "    print(\"Clave incorrecta.\")"
      ]
    }
  ]
}